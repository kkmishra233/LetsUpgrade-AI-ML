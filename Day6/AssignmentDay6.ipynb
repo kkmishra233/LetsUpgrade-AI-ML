{
 "cells": [
  {
   "cell_type": "markdown",
   "metadata": {},
   "source": [
    "__Question 1:__\n",
    "Assuming that we have some email addresses in the \"username@companyname.com\" format, please write program\n",
    "to print the company name of a given email address. Both user names and company names are composed of letters\n",
    "only.\n",
    "Input Format:\n",
    "The first line of the input contains an email address.\n",
    "Output Format:\n",
    "Print the company name in single line.\n",
    "Example;\n",
    "Input:\n",
    "john@google.com\n",
    "Output:\n",
    "google"
   ]
  },
  {
   "cell_type": "code",
   "execution_count": 11,
   "metadata": {},
   "outputs": [
    {
     "name": "stdout",
     "output_type": "stream",
     "text": [
      "Enter some email address . john@google.com \n",
      "google\n"
     ]
    }
   ],
   "source": [
    "inputemail = input(\"Enter some email address .\")\n",
    "def getCompanyName(variable): \n",
    "    return (variable.split(\".\")[0]).split(\"@\")[1]\n",
    "        \n",
    "print(getCompanyName(inputemail))"
   ]
  },
  {
   "cell_type": "markdown",
   "metadata": {},
   "source": [
    "__Question 2:__\n",
    "Write a program that accepts a comma-separated sequence of words as input and prints the words in a comma\n",
    "separated sequence after sorting them alphabetically.\n",
    "Input Format:\n",
    "The first line of input contains words separated by the comma.\n",
    "Output Format:\n",
    "Print the sorted words separated by the comma.\n",
    "Example:\n",
    "Input:\n",
    "without,hello,bag,world\n",
    "Output:\n",
    "bag,hello,without,world"
   ]
  },
  {
   "cell_type": "code",
   "execution_count": 21,
   "metadata": {},
   "outputs": [
    {
     "name": "stdout",
     "output_type": "stream",
     "text": [
      "Enter words separated by comma only : without,hello,bag,world \n",
      "bag,hello,without,world \n"
     ]
    }
   ],
   "source": [
    "inputwords = input(\"Enter words separated by comma only : \")\n",
    "def processsortedOutput(variable): \n",
    "    return sorted(variable.split(\",\"))\n",
    "        \n",
    "print((\",\").join(processsortedOutput(inputwords)))"
   ]
  },
  {
   "cell_type": "markdown",
   "metadata": {},
   "source": [
    "__Question 3:__\n",
    "Create your own Jupyter Notebook for Sets.\n",
    "Reference link: https://www.w3schools.com/python/python_sets.asp"
   ]
  },
  {
   "cell_type": "code",
   "execution_count": 31,
   "metadata": {},
   "outputs": [
    {
     "data": {
      "text/plain": [
       "{'a', 'b'}"
      ]
     },
     "execution_count": 31,
     "metadata": {},
     "output_type": "execute_result"
    }
   ],
   "source": [
    "'''Answer: \n",
    "\n",
    "set:Its a traditional set which will not store any duplicate data \n",
    "---\n",
    "\n",
    "properties:\n",
    "-----------\n",
    "\n",
    "a)insertion order will not maintain\n",
    "b)so Index is not valid for set data type \n",
    "c)Heterogeneous items are allowed\n",
    "d)Its mutable '''\n",
    "\n",
    "#functions (over 1 set):\n",
    "#-----------\n",
    "s = {'a','b','c'}     #To initialize a set \n",
    "s.add('d')            #To add one item to a set\n",
    "s.remove('a')         #To discard one item from a set\n",
    "s.discard('a')        #To remove one item from a set\n",
    "len(s)                #To get length of a set\n",
    "s.clear()             #To delete all element from set\n",
    "del s                 #To delete the set entirely\n",
    "\n",
    "#functions (over 2 set):\n",
    "#-----------\n",
    "s1 = {'a','b','c'}     #To initialize a set 1\n",
    "s2 = {'d','e','f','c'} #To initialize a set 2\n",
    "s1.union(s2)           #To see the union of s1 and s2 set\n",
    "s1.intersection(s2)    #To see the intersection of s1 and s2 set\n",
    "s1.update(s2)          #To fill all elements of s2 in s1 so that s1 contains all element belong to s1 and s2\n",
    "s4 = s1.copy()         #To copy all elements of s1 in s4\n",
    "s1.difference(s2)      #To see what difference s1 has in comparison to s2\n",
    "s1.issubset(s2)        #To check if s2 is subset of s1\n",
    "s1.symmetric_difference(s2) #To see the symmetric difference of s1 and s2 set"
   ]
  },
  {
   "cell_type": "markdown",
   "metadata": {},
   "source": [
    "__Question 4:__\n",
    "Given a list of n-1 numbers ranging from 1 to n, your task is to find the missing number. There are no duplicates.\n",
    "Input Format:\n",
    "The first line contains n-1 numbers with each number separated by a space.\n",
    "Output Format:\n",
    "Print the missing number\n",
    "Example:\n",
    "Input:1 2 4 6 3 7 8\n",
    "Output:5\n",
    "Explanation:\n",
    "In the above list of numbers 5 is missing and hence 5 is the input"
   ]
  },
  {
   "cell_type": "code",
   "execution_count": 2,
   "metadata": {},
   "outputs": [
    {
     "name": "stdout",
     "output_type": "stream",
     "text": [
      "Enter numbers separated by space only : 1 2 4 6 3 7 8 \n",
      "5\n"
     ]
    }
   ],
   "source": [
    "inputwords = input(\"Enter numbers separated by space only : \")\n",
    "def searchMissingNumber(variable): \n",
    "    n = len(variable) \n",
    "    total = (n + 1)*(n + 2)/2\n",
    "    return total - sum(variable)\n",
    "        \n",
    "list_of_number=[]\n",
    "if len(inputwords) > 1:\n",
    "    for items in inputwords.split(\" \"):\n",
    "        if items is not '':\n",
    "            list_of_number.append(int(items))\n",
    "    print(int(searchMissingNumber(list_of_number)))\n",
    "else:\n",
    "    print(\"Fill some numbers !\")"
   ]
  },
  {
   "cell_type": "markdown",
   "metadata": {},
   "source": [
    "__Question 5:__\n",
    "With a given list L, write a program to print this list L after removing all duplicate values with original order reserved.\n",
    "Example:\n",
    "If the input list is\n",
    "12 24 35 24 88 120 155 88 120 155\n",
    "Then the output should be\n",
    "12 24 35 88 120 155\n",
    "Explanation:\n",
    "Third, seventh and ninth element of the list L has been removed because it was already present.\n",
    "Input Format:\n",
    "In one line take the elements of the list L with each element separated by a space.\n",
    "Output Format:\n",
    "Print the elements of the modified list in one line with each element separated by a space.\n",
    "Example:\n",
    "Input: 12 24 35 24\n",
    "Output:\n",
    "12 24 35"
   ]
  },
  {
   "cell_type": "code",
   "execution_count": 11,
   "metadata": {},
   "outputs": [
    {
     "name": "stdout",
     "output_type": "stream",
     "text": [
      "Enter numbers separated by space only : 12 24 35 24\n",
      "12 24 35\n"
     ]
    }
   ],
   "source": [
    "inputwords = input(\"Enter numbers separated by space only : \")\n",
    "def removeDuplicates(variable):\n",
    "    listWithoutDuplicate=[]\n",
    "    for number in variable:\n",
    "        if number not in listWithoutDuplicate:\n",
    "            listWithoutDuplicate.append(number)\n",
    "    return [str(item) for item in listWithoutDuplicate]\n",
    "        \n",
    "list_of_number=[]\n",
    "if len(inputwords) > 1:\n",
    "    for items in inputwords.split(\" \"):\n",
    "        if items is not '':\n",
    "            list_of_number.append(int(items))\n",
    "    print((\" \").join(removeDuplicates(list_of_number)))\n",
    "else:\n",
    "    print(\"Fill some numbers !\")"
   ]
  }
 ],
 "metadata": {
  "kernelspec": {
   "display_name": "Python 3",
   "language": "python",
   "name": "python3"
  },
  "language_info": {
   "codemirror_mode": {
    "name": "ipython",
    "version": 3
   },
   "file_extension": ".py",
   "mimetype": "text/x-python",
   "name": "python",
   "nbconvert_exporter": "python",
   "pygments_lexer": "ipython3",
   "version": "3.7.6"
  }
 },
 "nbformat": 4,
 "nbformat_minor": 4
}
