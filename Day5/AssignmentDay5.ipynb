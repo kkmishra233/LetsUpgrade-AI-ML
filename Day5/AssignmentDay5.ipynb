{
 "cells": [
  {
   "cell_type": "markdown",
   "metadata": {},
   "source": [
    "__Question 1 :__\n",
    "Write a Python program to find the first 20 non-even prime natural numbers."
   ]
  },
  {
   "cell_type": "code",
   "execution_count": 23,
   "metadata": {},
   "outputs": [
    {
     "name": "stdout",
     "output_type": "stream",
     "text": [
      "The first 20 non-even prime natural numbers are : [3, 5, 7, 11, 13, 17, 19, 23, 29, 31, 37, 41, 43, 47, 53, 59, 61, 67, 71, 73]\n"
     ]
    }
   ],
   "source": [
    "start = 0\n",
    "end = 99\n",
    "count=20\n",
    "  \n",
    "non_even_prime_list=[]\n",
    "for number in range(start, end + 1):\n",
    "    if number > 1: \n",
    "        for n in range(2, number//2 + 2): \n",
    "            if (number % n) == 0: \n",
    "                break\n",
    "            else: \n",
    "                if n == number//2 + 1:\n",
    "                    non_even_prime_list.append(number)\n",
    "print(\"The first 20 non-even prime natural numbers are :\",non_even_prime_list[:count])"
   ]
  },
  {
   "cell_type": "markdown",
   "metadata": {},
   "source": [
    "__Question 2 :__\n",
    "Write a Python program to implement 15 functions of string."
   ]
  },
  {
   "cell_type": "code",
   "execution_count": 61,
   "metadata": {},
   "outputs": [
    {
     "name": "stdout",
     "output_type": "stream",
     "text": [
      "function 1 : capitalize the string -  Hi all this is krishna kumar mishra a software engineer with 3+ year of working eperiance as software professional. thank you.\n",
      "function 1 : casefold the string -  hi all this is krishna kumar mishra a software engineer with 3+ year of working eperiance as software professional. thank you.\n",
      "function 1 : put the string in center -  hi all this is krishna kumar mishra a software engineer with 3+ year of working eperiance as software professional. thank you.\n",
      "function 1 : count of the string -  4\n",
      "function 1 : encode the string -  b'hi all this is krishna kumar mishra a software engineer with 3+ year of working eperiance as software professional. thank you.'\n",
      "function 1 : check if it ends with the string -  True\n",
      "function 1 : find the string -  38\n",
      "function 1 : get index of the string -  38\n",
      "function 1 : check if the string is decimal -  False\n",
      "function 1 : check if the string is in lower case -  True\n",
      "function 1 : lowercase the string -  hi all this is krishna kumar mishra a software engineer with 3+ year of working eperiance as software professional. thank you.\n",
      "function 1 : uppercase the string -  HI ALL THIS IS KRISHNA KUMAR MISHRA A SOFTWARE ENGINEER WITH 3+ YEAR OF WORKING EPERIANCE AS SOFTWARE PROFESSIONAL. THANK YOU.\n",
      "function 1 : split the string -  ['hi all this is krishna kumar mishra a software engineer with 3', ' year of working eperiance as software professional. thank you.']\n",
      "function 1 : partition the string in tuple -  ('hi all this is krishna kumar mishra a software engineer with 3+ year of working eperiance as ', 'software', ' professional. thank you.')\n",
      "function 1 : swapcase the string -  HI ALL THIS IS KRISHNA KUMAR MISHRA A SOFTWARE ENGINEER WITH 3+ YEAR OF WORKING EPERIANCE AS SOFTWARE PROFESSIONAL. THANK YOU.\n"
     ]
    }
   ],
   "source": [
    "sampleString = \"hi all this is krishna kumar mishra a software engineer with 3+ year of working eperiance as software professional. thank you.\"\n",
    "print(\"function 1 : capitalize the string - \",sampleString.capitalize())\n",
    "print(\"function 1 : casefold the string - \",sampleString.casefold())\n",
    "print(\"function 1 : put the string in center - \",sampleString.center(10))\n",
    "print(\"function 1 : count of the string - \",sampleString.count(\"is\"))\n",
    "print(\"function 1 : encode the string - \",sampleString.encode('utf-8'))\n",
    "print(\"function 1 : check if it ends with the string - \",sampleString.endswith(\".\"))\n",
    "print(\"function 1 : find the string - \",sampleString.find(\"software\"))\n",
    "print(\"function 1 : get index of the string - \",sampleString.index(\"software\"))\n",
    "print(\"function 1 : check if the string is decimal - \",sampleString.isdecimal())\n",
    "print(\"function 1 : check if the string is in lower case - \",sampleString.islower())\n",
    "print(\"function 1 : lowercase the string - \",sampleString.lower())\n",
    "print(\"function 1 : uppercase the string - \",sampleString.upper())\n",
    "print(\"function 1 : split the string - \",sampleString.split(\"+\"))\n",
    "print(\"function 1 : partition the string in tuple - \",sampleString.rpartition(\"software\"))\n",
    "print(\"function 1 : swapcase the string - \",sampleString.swapcase())"
   ]
  },
  {
   "cell_type": "markdown",
   "metadata": {},
   "source": [
    "__Question 3:__\n",
    "Write a Python program to check if the given string is a Palindrome or Anagram or None of them.\n",
    "Display the message accordingly to the user."
   ]
  },
  {
   "cell_type": "code",
   "execution_count": 83,
   "metadata": {},
   "outputs": [
    {
     "name": "stdout",
     "output_type": "stream",
     "text": [
      "Enter String 1 : abcabc\n",
      "Enter String 1 : abccba\n",
      "abccba palindrome !\n",
      "These words are anagram of each other abcabc abccba\n"
     ]
    }
   ],
   "source": [
    "def checkString(str1,str2):\n",
    "    def isPalindrome(str): \n",
    "        for i in range(0, int(len(str)/2)):  \n",
    "            if str[i] != str[len(str)-i-1]: \n",
    "                return False\n",
    "        return True\n",
    "    \n",
    "    def isAnagram(str1,str2): \n",
    "        n1=len(str1)\n",
    "        n2=len(str2)\n",
    "        if n1 != n2:\n",
    "            return False\n",
    "        eligibleStr1 = sorted(str1)\n",
    "        eligibleStr2 = sorted(str2)\n",
    "        for i in range(0,n1):\n",
    "            if eligibleStr1[i] != eligibleStr2[i]:\n",
    "                return False\n",
    "        return True\n",
    "    if isPalindrome(str1):\n",
    "        print(f\"{str1} palindrome !\")\n",
    "    if isPalindrome(str2):\n",
    "        print(f\"{str2} palindrome !\")\n",
    "    if isAnagram(str1,str2):\n",
    "        print(\"These words are anagram of each other\",str1,str2)\n",
    "                    \n",
    "sample1 = input(\"Enter String 1 : \")\n",
    "sample2 = input(\"Enter String 1 : \")\n",
    "checkString(sample1,sample2)"
   ]
  },
  {
   "cell_type": "markdown",
   "metadata": {},
   "source": [
    "__Question 4:__\n",
    "Write a Python's user defined function that removes all the additional characters from the string\n",
    "and converts it finally to lower case using built-in lower(). eg: If the string is \"Dr. Darshan Ingle\n",
    "@AI-ML Trainer\", then the output be \"drdarshaningleaimltrainer\"."
   ]
  },
  {
   "cell_type": "code",
   "execution_count": 86,
   "metadata": {},
   "outputs": [
    {
     "name": "stdout",
     "output_type": "stream",
     "text": [
      "Enter String : Dr. Darshan Ingle @AI-ML Trainer\n",
      "drdarshaningleaimltrainer\n"
     ]
    }
   ],
   "source": [
    "inputstring = input(\"Enter String : \")\n",
    "print(''.join(e.lower() for e in inputstring if e.isalnum()))"
   ]
  }
 ],
 "metadata": {
  "kernelspec": {
   "display_name": "Python 3",
   "language": "python",
   "name": "python3"
  },
  "language_info": {
   "codemirror_mode": {
    "name": "ipython",
    "version": 3
   },
   "file_extension": ".py",
   "mimetype": "text/x-python",
   "name": "python",
   "nbconvert_exporter": "python",
   "pygments_lexer": "ipython3",
   "version": "3.7.6"
  }
 },
 "nbformat": 4,
 "nbformat_minor": 4
}
