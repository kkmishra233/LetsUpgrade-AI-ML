{
 "cells": [
  {
   "cell_type": "markdown",
   "metadata": {},
   "source": [
    "# Question 1 :"
   ]
  },
  {
   "cell_type": "raw",
   "metadata": {},
   "source": [
    "Write a program to subtract two complex numbers in Python.\n",
    "Answer:"
   ]
  },
  {
   "cell_type": "code",
   "execution_count": 42,
   "metadata": {},
   "outputs": [
    {
     "name": "stdout",
     "output_type": "stream",
     "text": [
      "Substracted value of complex1 from complex2 is (1+1j)\n"
     ]
    }
   ],
   "source": [
    "complex1 = complex(1,1) #complex1 is first variable and initializes with 1 + 1i\n",
    "complex2 = complex(2,2) #complex2 is second variable and initializes with 2 + 2i\n",
    "output = complex2-complex1\n",
    "print(\"Substracted value of complex1 from complex2 is\",output)"
   ]
  },
  {
   "cell_type": "markdown",
   "metadata": {},
   "source": [
    "# Question 2 :"
   ]
  },
  {
   "cell_type": "raw",
   "metadata": {},
   "source": [
    "Write a program to find the fourth root of a number.\n",
    "Answer:"
   ]
  },
  {
   "cell_type": "code",
   "execution_count": 43,
   "metadata": {},
   "outputs": [
    {
     "name": "stdout",
     "output_type": "stream",
     "text": [
      "3.1622776601683795\n"
     ]
    }
   ],
   "source": [
    "import math\n",
    "# number variable initializes with 100 and we will find 4th root of this number\n",
    "number = 100 \n",
    "output = pow(number,(0.25))\n",
    "print(output)"
   ]
  },
  {
   "cell_type": "markdown",
   "metadata": {},
   "source": [
    "# Question 3:"
   ]
  },
  {
   "cell_type": "raw",
   "metadata": {},
   "source": [
    "Write a program to swap two numbers in Python with the help of a temporary variable.\n",
    "Answer:"
   ]
  },
  {
   "cell_type": "code",
   "execution_count": 44,
   "metadata": {},
   "outputs": [
    {
     "name": "stdout",
     "output_type": "stream",
     "text": [
      "Number before swap are = a) 12 , b) 21\n",
      "Number after swap are = a) 21 , b) 12\n"
     ]
    }
   ],
   "source": [
    "#initializes two variable we will use them to perform swap\n",
    "first_number = 12\n",
    "second_number = 21\n",
    "temp = None\n",
    "print(\"Number before swap are = a)\",first_number,\", b)\",second_number)\n",
    "\n",
    "#swap the numbers\n",
    "temp = first_number\n",
    "first_number = second_number\n",
    "second_number = temp\n",
    "\n",
    "print(\"Number after swap are = a)\",first_number,\", b)\",second_number)\n"
   ]
  },
  {
   "cell_type": "markdown",
   "metadata": {},
   "source": [
    "# Question 4:"
   ]
  },
  {
   "cell_type": "raw",
   "metadata": {},
   "source": [
    "Write a program to swap two numbers in Python without using a temporary variable.\n",
    "Answer:"
   ]
  },
  {
   "cell_type": "code",
   "execution_count": 45,
   "metadata": {},
   "outputs": [
    {
     "name": "stdout",
     "output_type": "stream",
     "text": [
      "Number before swap are = a) 12 , b) 21\n",
      "Number after swap are = a) 21 , b) 12\n"
     ]
    }
   ],
   "source": [
    "#initializes two variable we will use them to perform swap\n",
    "first_number = 12\n",
    "second_number = 21\n",
    "print(\"Number before swap are = a)\",first_number,\", b)\",second_number)\n",
    "\n",
    "#swap the numbers\n",
    "first_number,second_number = second_number,first_number\n",
    "print(\"Number after swap are = a)\",first_number,\", b)\",second_number)"
   ]
  },
  {
   "cell_type": "markdown",
   "metadata": {},
   "source": [
    "# Question 5:"
   ]
  },
  {
   "cell_type": "raw",
   "metadata": {},
   "source": [
    "Write a program to convert fahrenheit to kelvin and celsius both.\n",
    "Answer:"
   ]
  },
  {
   "cell_type": "code",
   "execution_count": 46,
   "metadata": {},
   "outputs": [
    {
     "name": "stdout",
     "output_type": "stream",
     "text": [
      "the value of fahrenheit  101 in kelvin is  311.8333333333333\n",
      "the value of fahrenheit  101 in celcius is  38.333333333333336\n"
     ]
    }
   ],
   "source": [
    "#create two functions to calculate fahrenheit to kelvin and celsius both\n",
    "def fahrenheit_to_kelvin(value):\n",
    "    return 273.5 + ((value - 32.0) * (5.0/9.0))\n",
    "def fahrenheit_to_celcius(value):\n",
    "    return ((value - 32.0) * (5.0/9.0))\n",
    "\n",
    "\n",
    "#initializes fahrenheit\n",
    "fahrenheit = 101\n",
    "\n",
    "#call funcations to calculate kelvin and celsius\n",
    "fahrenheit_to_kelvin_value = fahrenheit_to_kelvin(fahrenheit)\n",
    "fahrenheit_to_celcius_value = fahrenheit_to_celcius(fahrenheit)\n",
    "\n",
    "print(\"the value of fahrenheit \",fahrenheit,\"in kelvin is \",fahrenheit_to_kelvin_value)\n",
    "print(\"the value of fahrenheit \",fahrenheit,\"in celcius is \",fahrenheit_to_celcius_value)"
   ]
  },
  {
   "cell_type": "markdown",
   "metadata": {},
   "source": [
    "# Question 6:"
   ]
  },
  {
   "cell_type": "raw",
   "metadata": {},
   "source": [
    "Write a program to demonstrate all the available data types in Python. Hint: Use type() function.\n",
    "Answer:"
   ]
  },
  {
   "cell_type": "code",
   "execution_count": 47,
   "metadata": {},
   "outputs": [
    {
     "name": "stdout",
     "output_type": "stream",
     "text": [
      "Text Type:\n",
      "integer Numeric Types: <class 'int'>\n",
      "float Numeric Types: <class 'float'>\n",
      "complex Numeric Types: <class 'complex'>\n",
      "list Sequence Types: <class 'list'>\n",
      "tuple Sequence Types: <class 'tuple'>\n",
      "range Sequence Types: <class 'range'>\n",
      "Dictionary Type: <class 'dict'>\n",
      "set types : <class 'set'>\n",
      "frozen set types : <class 'frozenset'>\n",
      "Boolean Type: <class 'bool'>\n",
      "Binary Types: <class 'bytes'>\n",
      "Binary array Types: <class 'bytearray'>\n"
     ]
    }
   ],
   "source": [
    "#initializes one variable for all data types\n",
    "d1 = str(\"my name is krishna\")\n",
    "print(\"Text Type:\")\n",
    "d21 = 27\n",
    "d22 = 27.00\n",
    "d23 = complex(1,1)\n",
    "print(\"integer Numeric Types:\",type(d21))\n",
    "print(\"float Numeric Types:\",type(d22))\n",
    "print(\"complex Numeric Types:\",type(d23))\n",
    "\n",
    "d31 = ['my','name','is','krishna']\n",
    "d32 = ('my','name','is','krishna')\n",
    "d33 = range(0,1)\n",
    "print(\"list Sequence Types:\",type(d31))\n",
    "print(\"tuple Sequence Types:\",type(d32))\n",
    "print(\"range Sequence Types:\",type(d33))\n",
    "\n",
    "d4 = {}\n",
    "d4['name'] = 'krishna'\n",
    "print(\"Dictionary Type:\",type(d4))\n",
    "\n",
    "d51 = set()\n",
    "d51.add(\"krishna\")\n",
    "d52 = frozenset(\"krishna\")\n",
    "print(\"set types :\",type(d51))\n",
    "print(\"frozen set types :\",type(d52))\n",
    "\n",
    "d6 = True\n",
    "print(\"Boolean Type:\",type(d6))\n",
    "\n",
    "d71 = bytes(1001)\n",
    "d72 = bytearray(1001)\n",
    "print(\"Binary Types:\",type(d71))\n",
    "print(\"Binary array Types:\",type(d72))"
   ]
  },
  {
   "cell_type": "markdown",
   "metadata": {},
   "source": [
    "# Question 7:"
   ]
  },
  {
   "cell_type": "raw",
   "metadata": {},
   "source": [
    "Create a Markdown cell in jupyter and list the steps discussed in the session by Dr. Darshan\n",
    "Ingle sir to create Github profile and upload Githubs Assignment link.\n",
    "Answer:"
   ]
  },
  {
   "cell_type": "code",
   "execution_count": 48,
   "metadata": {},
   "outputs": [
    {
     "data": {
      "text/markdown": [
       "# create Github profile and upload Githubs Assignment link \n",
       "1. open github website and complete the signup process\n",
       "2. create a new public repository as \"LetsUpgrade-AI-ML\"\n",
       "3. click on \"uploading an existing file.\" from quick set up screen \n",
       "4. drag and drop prepared assignment solution in the above repository and commit the changes \n",
       "5. navigate to repository and then particular assignment and copy the web browser url\n",
       "6. paste this url in incognito tab and check is this is accessible \n",
       "7. if all went good then paste this url in assignment submission docx\n"
      ],
      "text/plain": [
       "<IPython.core.display.Markdown object>"
      ]
     },
     "metadata": {},
     "output_type": "display_data"
    }
   ],
   "source": [
    "%%markdown\n",
    "# create Github profile and upload Githubs Assignment link \n",
    "1. open github website and complete the signup process\n",
    "2. create a new public repository as \"LetsUpgrade-AI-ML\"\n",
    "3. click on \"uploading an existing file.\" from quick set up screen \n",
    "4. drag and drop prepared assignment solution in the above repository and commit the changes \n",
    "5. navigate to repository and then particular assignment and copy the web browser url\n",
    "6. paste this url in incognito tab and check is this is accessible \n",
    "7. if all went good then paste this url in assignment submission docx\n"
   ]
  }
 ],
 "metadata": {
  "kernelspec": {
   "display_name": "Python 3",
   "language": "python",
   "name": "python3"
  },
  "language_info": {
   "codemirror_mode": {
    "name": "ipython",
    "version": 3
   },
   "file_extension": ".py",
   "mimetype": "text/x-python",
   "name": "python",
   "nbconvert_exporter": "python",
   "pygments_lexer": "ipython3",
   "version": "3.7.6"
  }
 },
 "nbformat": 4,
 "nbformat_minor": 4
}
