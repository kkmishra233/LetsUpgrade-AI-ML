{
 "cells": [
  {
   "cell_type": "markdown",
   "metadata": {},
   "source": [
    "__Question 1 :__\n",
    "Research on whether addition, subtraction, multiplication, division, floor division and modulo\n",
    "operations be performed on complex numbers. Based on your study, implement a Python\n",
    "program to demonstrate these operations."
   ]
  },
  {
   "cell_type": "markdown",
   "metadata": {},
   "source": [
    "_Answer:_"
   ]
  },
  {
   "cell_type": "code",
   "execution_count": 5,
   "metadata": {},
   "outputs": [
    {
     "name": "stdout",
     "output_type": "stream",
     "text": [
      "Addition of complex numbers are  (3+9j)\n",
      "Substraction of complex numbers are  (-1-5j)\n",
      "multiplication of complex numbers are  (-12+11j)\n",
      "division  operation is not possible !\n",
      "floor division of complex numbers are  (0.3018867924528302-0.05660377358490567j)\n",
      "modulo  operation is not possible !\n"
     ]
    }
   ],
   "source": [
    "#lets take two complex numbers \n",
    "c1=complex(1,2)\n",
    "c2=complex(2,7)\n",
    "\n",
    "#create driver function\n",
    "def operations_on_complex_number(mode,number1,number2):\n",
    "    try:\n",
    "        if mode == 'Addition':\n",
    "            print(\"Addition of complex numbers are \", number2+number1)\n",
    "        elif mode == 'Substraction':\n",
    "            print(\"Substraction of complex numbers are \", number2-number1)\n",
    "        elif mode == 'multiplication':\n",
    "            print(\"multiplication of complex numbers are \", number2*number1)\n",
    "        elif mode == 'division':\n",
    "            print(\"division of complex numbers are \", number2//number1)\n",
    "        elif mode == 'fdivision':\n",
    "            print(\"floor division of complex numbers are \", number2/number1)\n",
    "        elif mode == 'modulo':\n",
    "            print(\"modulo of complex numbers are \", number2%number1)\n",
    "        else:\n",
    "            print(\"please select a valid mode\")\n",
    "    except:\n",
    "        print(mode,\" operation is not possible !\")\n",
    "\n",
    "#call function to see the what operations possible on complex numbers\n",
    "operations_on_complex_number(\"Addition\",c2,c1)\n",
    "operations_on_complex_number(\"Substraction\",c2,c1)\n",
    "operations_on_complex_number(\"multiplication\",c2,c1)\n",
    "operations_on_complex_number(\"division\",c2,c1)\n",
    "operations_on_complex_number(\"fdivision\",c2,c1)\n",
    "operations_on_complex_number(\"modulo\",c2,c1)"
   ]
  },
  {
   "cell_type": "markdown",
   "metadata": {},
   "source": [
    "__Question 2 :__\n",
    "Research on range() functions and its parameters. Create a markdown cell and write in your own\n",
    "words (no copy-paste from google please) what you understand about it. Implement a small\n",
    "program of your choice on the same."
   ]
  },
  {
   "cell_type": "markdown",
   "metadata": {},
   "source": [
    "_Answer:_\n",
    "\n",
    "__Range function__ Range data type represents a sequence of data And its immutable in nature\n",
    "\n",
    "Range can be called as range()\n",
    " \n",
    " \n",
    "form-1 :   range (end)\n",
    "Then it will get 0 to end-1\n",
    " \n",
    "form 2 : range(start,end)\n",
    "Then it will give start to end -1\n",
    " \n",
    "form 3: range(10,50,5)\n",
    "Then it will give start to end by step by step after each 5 item"
   ]
  },
  {
   "cell_type": "code",
   "execution_count": 12,
   "metadata": {},
   "outputs": [
    {
     "name": "stdout",
     "output_type": "stream",
     "text": [
      "0123456789\n",
      "\n",
      "0123456789\n",
      "\n",
      "02468"
     ]
    }
   ],
   "source": [
    "#use of range function:\n",
    "\n",
    "#form-1 : range (end) Then it will get 0 to end-1\n",
    "for item in range(10):\n",
    "    print(item,end='')\n",
    "print('\\n')\n",
    "#form 2 : range(start,end) Then it will give start to end -1\n",
    "for item in range(0,10):\n",
    "    print(item,end='')\n",
    "print('\\n')\n",
    "#form 3: range(0,10,2) Then it will give start to end by step by step after each 2 item\n",
    "for item in range(0,10,2):\n",
    "    print(item,end='')"
   ]
  },
  {
   "cell_type": "markdown",
   "metadata": {},
   "source": [
    "__Question 3:__\n",
    "Consider two numbers. Perform their subtraction and if the result of subtraction is greater than\n",
    "25, print their multiplication result else print their division result."
   ]
  },
  {
   "cell_type": "markdown",
   "metadata": {},
   "source": [
    "_Answer:_"
   ]
  },
  {
   "cell_type": "code",
   "execution_count": 22,
   "metadata": {},
   "outputs": [
    {
     "name": "stdout",
     "output_type": "stream",
     "text": [
      "printing multiplication of input numbers as their difference is greater than 25 i.e.: 729\n",
      "printing division of input numbers as their difference is less than 25 i.e.:  1.0\n"
     ]
    }
   ],
   "source": [
    "#set of two numbers whose difference is greater than 25\n",
    "numbers11=1\n",
    "numbers12=27\n",
    "\n",
    "#set of two numbers whose difference is not greater than 25\n",
    "numbers21=10\n",
    "numbers22=27\n",
    "\n",
    "#create driver function\n",
    "def conditional_substration(number1,number2):\n",
    "    try:\n",
    "        output = number2-number1\n",
    "        if output > 25:\n",
    "            print(\"printing multiplication of input numbers as their difference is greater than 25 i.e.:\"\n",
    "                  ,number2*number2)\n",
    "        else:\n",
    "            print(\"printing division of input numbers as their difference is less than 25 i.e.: \"\n",
    "                  ,number2/number2)\n",
    "    except:\n",
    "        print(\"operation is not possible !\")\n",
    "\n",
    "conditional_substration(numbers11,numbers12) \n",
    "conditional_substration(numbers21,numbers22) "
   ]
  },
  {
   "cell_type": "markdown",
   "metadata": {},
   "source": [
    "__Question 4:__\n",
    "Consider a list of 10 elements of integer values. If the number in the list is divisible by 2, print the\n",
    "result as \"square of that number minus 2\"."
   ]
  },
  {
   "cell_type": "markdown",
   "metadata": {},
   "source": [
    "_Answer:_"
   ]
  },
  {
   "cell_type": "code",
   "execution_count": 37,
   "metadata": {},
   "outputs": [
    {
     "name": "stdout",
     "output_type": "stream",
     "text": [
      "square of  8  minus 2 62\n",
      "square of  10  minus 2 98\n",
      "square of  2  minus 2 2\n",
      "square of  6  minus 2 34\n",
      "square of  4  minus 2 14\n"
     ]
    }
   ],
   "source": [
    "import random\n",
    "#create random list of 10 integers\n",
    "randomintlist = random.sample(range(1, 11,),10)\n",
    "\n",
    "#logic\n",
    "for number in randomintlist:\n",
    "    if number % 2 == 0:\n",
    "        print(\"square of \",number,\" minus 2\",((number*number)-2))\n",
    "    else:\n",
    "        continue"
   ]
  },
  {
   "cell_type": "markdown",
   "metadata": {},
   "source": [
    "__Question 5:__\n",
    "Consider a list of 10 elements. Print all the elements in the list which are greater than 7 when that\n",
    "number is divided 2."
   ]
  },
  {
   "cell_type": "markdown",
   "metadata": {},
   "source": [
    "_Answer:_"
   ]
  },
  {
   "cell_type": "code",
   "execution_count": 41,
   "metadata": {},
   "outputs": [
    {
     "name": "stdout",
     "output_type": "stream",
     "text": [
      "elements in the list which are greater than 7 when that number is divided 2 is : 8\n",
      "elements in the list which are greater than 7 when that number is divided 2 is : 10\n"
     ]
    }
   ],
   "source": [
    "import random\n",
    "#create random list of 10 integers\n",
    "randomintlist = random.sample(range(1, 11,),10)\n",
    "\n",
    "#logic\n",
    "for number in randomintlist:\n",
    "    if number > 7 and number % 2 == 0 :\n",
    "        print(\"elements in the list which are greater than 7 when that number is divided 2 is :\",number)\n",
    "    else:\n",
    "        continue"
   ]
  }
 ],
 "metadata": {
  "kernelspec": {
   "display_name": "Python 3",
   "language": "python",
   "name": "python3"
  },
  "language_info": {
   "codemirror_mode": {
    "name": "ipython",
    "version": 3
   },
   "file_extension": ".py",
   "mimetype": "text/x-python",
   "name": "python",
   "nbconvert_exporter": "python",
   "pygments_lexer": "ipython3",
   "version": "3.7.6"
  }
 },
 "nbformat": 4,
 "nbformat_minor": 4
}
